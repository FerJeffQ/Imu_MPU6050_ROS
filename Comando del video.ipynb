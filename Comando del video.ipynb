{
  "cells": [
    {
      "cell_type": "markdown",
      "source": [
        "# Comandos utilizados en el video\n"
      ],
      "metadata": {
        "id": "0K5Xgy9HHSrc"
      }
    },
    {
      "cell_type": "markdown",
      "source": [
        "## Terminal 1:\n",
        "```roscore```\n",
        "## Terminal 2:\n",
        "``` rosrun rosserial_python serial_node.py /dev/ttyACM0 _baud:=57600```\n",
        "## Terminal 3:\n",
        "```rostopic echo imu/data```\n",
        "## Terminal 4:\n",
        "```python3 tf_broadcaster_imu.py``` Tiene que estar en la direccion del archivo python.\n",
        "## Terminal 5:\n",
        "```rviz```\n",
        "\n"
      ],
      "metadata": {
        "id": "GaKV1QbjHVj-"
      }
    },
    {
      "cell_type": "code",
      "source": [],
      "metadata": {
        "id": "SwQWs6YWHUeZ"
      },
      "execution_count": null,
      "outputs": []
    }
  ],
  "metadata": {
    "colab": {
      "name": "Welcome To Colaboratory",
      "toc_visible": true,
      "provenance": []
    },
    "kernelspec": {
      "display_name": "Python 3",
      "name": "python3"
    }
  },
  "nbformat": 4,
  "nbformat_minor": 0
}